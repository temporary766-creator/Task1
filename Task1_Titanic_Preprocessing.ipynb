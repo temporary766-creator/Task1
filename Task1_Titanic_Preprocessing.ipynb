{
 "cells": [
  {
   "cell_type": "markdown",
   "id": "c1ad11e7",
   "metadata": {},
   "source": [
    "# Titanic Dataset - Data Cleaning & Preprocessing\n",
    "This notebook contains all the preprocessing steps applied to the Titanic dataset."
   ]
  },
  {
   "cell_type": "code",
   "execution_count": null,
   "id": "8eb5658c",
   "metadata": {},
   "outputs": [],
   "source": [
    "import pandas as pd\n",
    "import numpy as np\n",
    "import matplotlib.pyplot as plt\n",
    "from sklearn.preprocessing import StandardScaler"
   ]
  },
  {
   "cell_type": "markdown",
   "id": "5c203cdf",
   "metadata": {},
   "source": [
    "# Load dataset\n",
    "df = pd.read_csv('Titanic-Dataset.csv')\n",
    "df.head()"
   ]
  },
  {
   "cell_type": "markdown",
   "id": "e9854c68",
   "metadata": {},
   "source": [
    "# Drop Cabin (too many missing values)\n",
    "df = df.drop(columns=['Cabin'])"
   ]
  },
  {
   "cell_type": "markdown",
   "id": "a434cae3",
   "metadata": {},
   "source": [
    "# Impute missing values\n",
    "df['Age'] = df['Age'].fillna(df['Age'].median())\n",
    "df['Embarked'] = df['Embarked'].fillna(df['Embarked'].mode()[0])\n",
    "df['Fare'] = df['Fare'].fillna(df['Fare'].median())"
   ]
  },
  {
   "cell_type": "markdown",
   "id": "1471e733",
   "metadata": {},
   "source": [
    "# Encode categorical variables\n",
    "df['Sex'] = df['Sex'].map({'male':1,'female':0})\n",
    "df = pd.get_dummies(df, columns=['Embarked'], drop_first=True)"
   ]
  },
  {
   "cell_type": "markdown",
   "id": "0f13848a",
   "metadata": {},
   "source": [
    "# Scale Age & Fare\n",
    "scaler = StandardScaler()\n",
    "df[['Age_scaled','Fare_scaled']] = scaler.fit_transform(df[['Age','Fare']])\n",
    "df.head()"
   ]
  },
  {
   "cell_type": "markdown",
   "id": "c2d8a02d",
   "metadata": {},
   "source": [
    "# Outlier removal using IQR\n",
    "def remove_outliers_iqr(data, column):\n",
    "    Q1 = data[column].quantile(0.25)\n",
    "    Q3 = data[column].quantile(0.75)\n",
    "    IQR = Q3 - Q1\n",
    "    lower = Q1 - 1.5*IQR\n",
    "    upper = Q3 + 1.5*IQR\n",
    "    return data[(data[column] >= lower) & (data[column] <= upper)]\n",
    "\n",
    "df = remove_outliers_iqr(df, 'Age')\n",
    "df = remove_outliers_iqr(df, 'Fare')\n",
    "df.shape"
   ]
  },
  {
   "cell_type": "markdown",
   "id": "d7e538d7",
   "metadata": {},
   "source": [
    "# Save final cleaned dataset\n",
    "df.to_csv('titanic_cleaned.csv', index=False)\n",
    "print('Saved cleaned dataset with shape:', df.shape)"
   ]
  }
 ],
 "metadata": {},
 "nbformat": 4,
 "nbformat_minor": 5
}
